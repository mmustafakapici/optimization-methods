{
 "cells": [
  {
   "cell_type": "code",
   "execution_count": 1,
   "metadata": {},
   "outputs": [],
   "source": [
    "import numpy as np\n",
    "import pandas as pd\n",
    "import matplotlib.pyplot as plt\n",
    "import tensorflow as tf\n",
    "from tensorflow.keras.datasets import mnist\n",
    "from tensorflow.keras.models import Sequential\n",
    "from tensorflow.keras.layers import Dense\n",
    "from tensorflow.keras.utils import to_categorical\n",
    "from sklearn.model_selection import train_test_split\n",
    "import random\n"
   ]
  },
  {
   "cell_type": "code",
   "execution_count": 2,
   "metadata": {},
   "outputs": [],
   "source": [
    "def create_network(network_params):\n",
    "    model = Sequential()\n",
    "    model.add(Dense(network_params['first_layer_neurons'], activation=network_params['activation'], input_shape=(784,)))\n",
    "    for i in range(network_params['hidden_layers']):\n",
    "        model.add(Dense(network_params['hidden_layer_neurons'], activation=network_params['activation']))\n",
    "    model.add(Dense(10, activation='softmax'))  # 10 sınıf için çıkış katmanı\n",
    "    model.compile(optimizer='adam', loss='categorical_crossentropy', metrics=['accuracy'])\n",
    "    return model\n",
    "\n",
    "def generate_initial_population(pop_size):\n",
    "    population = []\n",
    "    for _ in range(pop_size):\n",
    "        network_params = {\n",
    "            'first_layer_neurons': random.choice([32, 64, 128]),\n",
    "            'hidden_layers': random.choice([1, 2, 3]),\n",
    "            'hidden_layer_neurons': random.choice([32, 64, 128]),\n",
    "            'activation': random.choice(['relu', 'tanh'])\n",
    "        }\n",
    "        population.append(network_params)\n",
    "    return population\n",
    "\n",
    "def compute_fitness(model, X_train, y_train, X_val, y_val):\n",
    "    model.fit(X_train, y_train, epochs=3, verbose=0)  # Eğitim süresini kısa tutmak için 3 epoch\n",
    "    loss, accuracy = model.evaluate(X_val, y_val, verbose=0)\n",
    "    return accuracy\n",
    "\n",
    "def select_parents(population, fitness, num_parents):\n",
    "    parents = np.argsort(fitness)[-num_parents:]\n",
    "    return [population[i] for i in parents]\n",
    "\n",
    "def crossover(parents):\n",
    "    offspring = []\n",
    "    for _ in range(len(parents) // 2):\n",
    "        parent1, parent2 = random.sample(parents, 2)\n",
    "        child = parent1.copy()\n",
    "        for key in parent2:\n",
    "            if random.uniform(0, 1) < 0.5:\n",
    "                child[key] = parent2[key]\n",
    "        offspring.append(child)\n",
    "    return offspring\n",
    "\n",
    "def mutate(offspring):\n",
    "    for child in offspring:\n",
    "        if random.uniform(0, 1) < 0.1:  # %10 mutasyon şansı\n",
    "            child['first_layer_neurons'] = random.choice([32, 64, 128])\n",
    "            child['hidden_layers'] = random.choice([1, 2, 3])\n",
    "            child['hidden_layer_neurons'] = random.choice([32, 64, 128])\n",
    "            child['activation'] = random.choice(['relu', 'tanh'])\n",
    "    return offspring\n"
   ]
  },
  {
   "cell_type": "code",
   "execution_count": 3,
   "metadata": {},
   "outputs": [
    {
     "name": "stdout",
     "output_type": "stream",
     "text": [
      "Downloading data from https://storage.googleapis.com/tensorflow/tf-keras-datasets/mnist.npz\n",
      "11490434/11490434 [==============================] - 2s 0us/step\n"
     ]
    }
   ],
   "source": [
    "# MNIST veri setini yükleme\n",
    "(X_train, y_train), (X_test, y_test) = mnist.load_data()\n",
    "X_train, X_val, y_train, y_val = train_test_split(X_train, y_train, test_size=0.1)\n",
    "X_train = X_train.reshape(X_train.shape[0], 784)\n",
    "X_val = X_val.reshape(X_val.shape[0], 784)\n",
    "y_train = to_categorical(y_train, 10)\n",
    "y_val = to_categorical(y_val, 10)\n"
   ]
  },
  {
   "cell_type": "code",
   "execution_count": 4,
   "metadata": {},
   "outputs": [],
   "source": [
    "\n",
    "# Genetik algoritma parametreleri\n",
    "population_size = 10\n",
    "num_generations = 5\n",
    "num_parents = 4\n",
    "\n",
    "# Başlangıç popülasyonunu oluşturma\n",
    "population = generate_initial_population(population_size)\n",
    "\n",
    "\n"
   ]
  },
  {
   "cell_type": "code",
   "execution_count": 5,
   "metadata": {},
   "outputs": [
    {
     "name": "stdout",
     "output_type": "stream",
     "text": [
      "Generation 1\n",
      "Network 1: Accuracy 0.9085000157356262  | Params {'first_layer_neurons': 32, 'hidden_layers': 1, 'hidden_layer_neurons': 128, 'activation': 'relu'} |  \n",
      "Network 2: Accuracy 0.9340000152587891  | Params {'first_layer_neurons': 128, 'hidden_layers': 1, 'hidden_layer_neurons': 128, 'activation': 'relu'} |  \n",
      "Network 3: Accuracy 0.9449999928474426  | Params {'first_layer_neurons': 64, 'hidden_layers': 3, 'hidden_layer_neurons': 128, 'activation': 'relu'} |  \n",
      "Network 4: Accuracy 0.9235000014305115  | Params {'first_layer_neurons': 64, 'hidden_layers': 1, 'hidden_layer_neurons': 128, 'activation': 'relu'} |  \n",
      "Network 5: Accuracy 0.9484999775886536  | Params {'first_layer_neurons': 128, 'hidden_layers': 1, 'hidden_layer_neurons': 64, 'activation': 'relu'} |  \n",
      "Network 6: Accuracy 0.934333324432373  | Params {'first_layer_neurons': 64, 'hidden_layers': 2, 'hidden_layer_neurons': 32, 'activation': 'relu'} |  \n",
      "Network 7: Accuracy 0.9073333144187927  | Params {'first_layer_neurons': 32, 'hidden_layers': 1, 'hidden_layer_neurons': 32, 'activation': 'relu'} |  \n",
      "Network 8: Accuracy 0.8838333487510681  | Params {'first_layer_neurons': 128, 'hidden_layers': 2, 'hidden_layer_neurons': 64, 'activation': 'tanh'} |  \n"
     ]
    }
   ],
   "source": [
    "# Her nesil için döngü\n",
    "for generation in range(num_generations):\n",
    "    print(f\"Generation {generation + 1}\")\n",
    "    fitness = []\n",
    "    for i, network_params in enumerate(population):\n",
    "        model = create_network(network_params)\n",
    "        accuracy = compute_fitness(model, X_train, y_train, X_val, y_val)\n",
    "        fitness.append(accuracy)\n",
    "        print(f\"Network {i + 1}: Accuracy {accuracy}  | Params {network_params} |  \")\n",
    "       \n",
    "    parents = select_parents(population, fitness, num_parents)\n",
    "    offspring_crossover = crossover(parents)\n",
    "    offspring_mutation = mutate(offspring_crossover)\n",
    "\n",
    "    population = parents + offspring_mutation"
   ]
  },
  {
   "cell_type": "code",
   "execution_count": null,
   "metadata": {},
   "outputs": [],
   "source": []
  }
 ],
 "metadata": {
  "kernelspec": {
   "display_name": "all",
   "language": "python",
   "name": "python3"
  },
  "language_info": {
   "codemirror_mode": {
    "name": "ipython",
    "version": 3
   },
   "file_extension": ".py",
   "mimetype": "text/x-python",
   "name": "python",
   "nbconvert_exporter": "python",
   "pygments_lexer": "ipython3",
   "version": "3.11.5"
  }
 },
 "nbformat": 4,
 "nbformat_minor": 2
}
