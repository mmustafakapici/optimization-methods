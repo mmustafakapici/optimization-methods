{
 "cells": [
  {
   "cell_type": "code",
   "execution_count": 1,
   "metadata": {},
   "outputs": [
    {
     "name": "stdout",
     "output_type": "stream",
     "text": [
      "Requirement already satisfied: deap in /Users/mustafakapici/anaconda3/envs/all/lib/python3.11/site-packages (1.4.1)\n",
      "Requirement already satisfied: numpy in /Users/mustafakapici/anaconda3/envs/all/lib/python3.11/site-packages (from deap) (1.26.2)\n",
      "Note: you may need to restart the kernel to use updated packages.\n"
     ]
    }
   ],
   "source": [
    "%pip install deap"
   ]
  },
  {
   "cell_type": "code",
   "execution_count": 2,
   "metadata": {},
   "outputs": [
    {
     "name": "stderr",
     "output_type": "stream",
     "text": [
      "2024-01-14 18:01:26.768779: I tensorflow/core/platform/cpu_feature_guard.cc:182] This TensorFlow binary is optimized to use available CPU instructions in performance-critical operations.\n",
      "To enable the following instructions: AVX2 FMA, in other operations, rebuild TensorFlow with the appropriate compiler flags.\n"
     ]
    }
   ],
   "source": [
    "import numpy as np\n",
    "import tensorflow as tf\n",
    "from tensorflow.keras.models import Sequential\n",
    "from tensorflow.keras.layers import Dense, Dropout\n",
    "from tensorflow.keras.callbacks import EarlyStopping\n",
    "from deap import base, tools, creator, algorithms\n",
    "from sklearn.model_selection import train_test_split\n",
    "from sklearn.datasets import fetch_california_housing\n",
    "from sklearn.preprocessing import StandardScaler\n",
    "import pandas as pd"
   ]
  },
  {
   "cell_type": "code",
   "execution_count": 3,
   "metadata": {},
   "outputs": [],
   "source": [
    "# California Housing Dataset'ini yükleme ve eğitim/test setlerine ayırma\n",
    "X, y = fetch_california_housing(return_X_y=True)\n",
    "X_train, X_test, y_train, y_test = train_test_split(X, y, test_size=0.2)\n"
   ]
  },
  {
   "cell_type": "code",
   "execution_count": 4,
   "metadata": {},
   "outputs": [],
   "source": [
    "\n",
    "# Veri normalizasyonu\n",
    "scaler = StandardScaler()\n",
    "X_train = scaler.fit_transform(X_train)\n",
    "X_test = scaler.transform(X_test)\n"
   ]
  },
  {
   "cell_type": "code",
   "execution_count": 5,
   "metadata": {},
   "outputs": [],
   "source": [
    "# Yapay sinir ağı modelini oluşturma fonksiyonu\n",
    "def create_model(num_neurons, dropout_rate, learning_rate):\n",
    "    model = Sequential()\n",
    "    model.add(Dense(num_neurons, input_dim=X_train.shape[1], activation='relu'))  # Giriş katmanı\n",
    "    model.add(Dropout(dropout_rate))  # Dropout katmanı\n",
    "    model.add(Dense(1, activation='linear'))  # Çıkış katmanı\n",
    "    optimizer = tf.keras.optimizers.Adam(learning_rate=learning_rate)  # Optimizer tanımı\n",
    "    model.compile(loss='mean_squared_error', optimizer=optimizer)  # Modeli derleme\n",
    "    return model"
   ]
  },
  {
   "cell_type": "code",
   "execution_count": 6,
   "metadata": {},
   "outputs": [],
   "source": [
    "# Genetik algoritma için fitness fonksiyonu\n",
    "def eval_nn(individual):\n",
    "    num_neurons, dropout_rate, learning_rate = individual\n",
    "    model = create_model(int(num_neurons), dropout_rate, learning_rate)\n",
    "    early_stopping = EarlyStopping(monitor='val_loss', patience=5)  # Erken durdurma\n",
    "    model.fit(X_train, y_train, epochs=100, verbose=0, validation_split=0.1, callbacks=[early_stopping])\n",
    "    loss = model.evaluate(X_test, y_test, verbose=0)\n",
    "    return (loss,)"
   ]
  },
  {
   "cell_type": "code",
   "execution_count": 7,
   "metadata": {},
   "outputs": [],
   "source": [
    "# GA için temel yapıların oluşturulması\n",
    "creator.create(\"FitnessMin\", base.Fitness, weights=(-1.0,))\n",
    "creator.create(\"Individual\", list, fitness=creator.FitnessMin)\n",
    "\n",
    "toolbox = base.Toolbox()\n",
    "toolbox.register(\"attr_int\", np.random.randint, 10, 100)  # Nöron sayısı için rastgele değer\n",
    "toolbox.register(\"attr_float\", np.random.uniform, 0.0, 1.0)  # Dropout oranı ve learning rate için rastgele değer\n",
    "toolbox.register(\"individual\", tools.initRepeat, creator.Individual, lambda: [toolbox.attr_int(), toolbox.attr_float(), toolbox.attr_float()], n=3)\n",
    "toolbox.register(\"population\", tools.initRepeat, list, toolbox.individual)\n",
    "toolbox.register(\"evaluate\", eval_nn)\n",
    "toolbox.register(\"mate\", tools.cxTwoPoint)  # Çaprazlama fonksiyonu\n",
    "toolbox.register(\"mutate\", tools.mutGaussian, mu=0, sigma=1, indpb=0.1)  # Mutasyon fonksiyonu\n",
    "toolbox.register(\"select\", tools.selTournament, tournsize=3)  # Seçim fonksiyonu\n"
   ]
  },
  {
   "cell_type": "code",
   "execution_count": 8,
   "metadata": {},
   "outputs": [],
   "source": [
    "# GA'nın çalıştırılması ve her nesil için en iyi bireylerin kaydedilmesi\n",
    "population = toolbox.population(n=500)\n",
    "ngen = 10\n",
    "history = []"
   ]
  },
  {
   "cell_type": "code",
   "execution_count": 9,
   "metadata": {},
   "outputs": [
    {
     "ename": "TypeError",
     "evalue": "'float' object is not iterable",
     "output_type": "error",
     "traceback": [
      "\u001b[0;31m---------------------------------------------------------------------------\u001b[0m",
      "\u001b[0;31mTypeError\u001b[0m                                 Traceback (most recent call last)",
      "Cell \u001b[0;32mIn[9], line 3\u001b[0m\n\u001b[1;32m      1\u001b[0m \u001b[38;5;28;01mfor\u001b[39;00m gen \u001b[38;5;129;01min\u001b[39;00m \u001b[38;5;28mrange\u001b[39m(ngen):\n\u001b[1;32m      2\u001b[0m     \u001b[38;5;66;03m# Popülasyonda çaprazlama ve mutasyon işlemi yapılır\u001b[39;00m\n\u001b[0;32m----> 3\u001b[0m     population \u001b[38;5;241m=\u001b[39m \u001b[43malgorithms\u001b[49m\u001b[38;5;241;43m.\u001b[39;49m\u001b[43mvarAnd\u001b[49m\u001b[43m(\u001b[49m\u001b[43mpopulation\u001b[49m\u001b[43m,\u001b[49m\u001b[43m \u001b[49m\u001b[43mtoolbox\u001b[49m\u001b[43m,\u001b[49m\u001b[43m \u001b[49m\u001b[43mcxpb\u001b[49m\u001b[38;5;241;43m=\u001b[39;49m\u001b[38;5;241;43m0.5\u001b[39;49m\u001b[43m,\u001b[49m\u001b[43m \u001b[49m\u001b[43mmutpb\u001b[49m\u001b[38;5;241;43m=\u001b[39;49m\u001b[38;5;241;43m0.2\u001b[39;49m\u001b[43m)\u001b[49m\n\u001b[1;32m      4\u001b[0m     \u001b[38;5;66;03m# Bireylerin fitness değerleri hesaplanır\u001b[39;00m\n\u001b[1;32m      5\u001b[0m     fits \u001b[38;5;241m=\u001b[39m toolbox\u001b[38;5;241m.\u001b[39mmap(toolbox\u001b[38;5;241m.\u001b[39mevaluate, population)\n",
      "File \u001b[0;32m~/anaconda3/envs/all/lib/python3.11/site-packages/deap/algorithms.py:79\u001b[0m, in \u001b[0;36mvarAnd\u001b[0;34m(population, toolbox, cxpb, mutpb)\u001b[0m\n\u001b[1;32m     77\u001b[0m \u001b[38;5;28;01mfor\u001b[39;00m i \u001b[38;5;129;01min\u001b[39;00m \u001b[38;5;28mrange\u001b[39m(\u001b[38;5;28mlen\u001b[39m(offspring)):\n\u001b[1;32m     78\u001b[0m     \u001b[38;5;28;01mif\u001b[39;00m random\u001b[38;5;241m.\u001b[39mrandom() \u001b[38;5;241m<\u001b[39m mutpb:\n\u001b[0;32m---> 79\u001b[0m         offspring[i], \u001b[38;5;241m=\u001b[39m \u001b[43mtoolbox\u001b[49m\u001b[38;5;241;43m.\u001b[39;49m\u001b[43mmutate\u001b[49m\u001b[43m(\u001b[49m\u001b[43moffspring\u001b[49m\u001b[43m[\u001b[49m\u001b[43mi\u001b[49m\u001b[43m]\u001b[49m\u001b[43m)\u001b[49m\n\u001b[1;32m     80\u001b[0m         \u001b[38;5;28;01mdel\u001b[39;00m offspring[i]\u001b[38;5;241m.\u001b[39mfitness\u001b[38;5;241m.\u001b[39mvalues\n\u001b[1;32m     82\u001b[0m \u001b[38;5;28;01mreturn\u001b[39;00m offspring\n",
      "File \u001b[0;32m~/anaconda3/envs/all/lib/python3.11/site-packages/deap/tools/mutation.py:45\u001b[0m, in \u001b[0;36mmutGaussian\u001b[0;34m(individual, mu, sigma, indpb)\u001b[0m\n\u001b[1;32m     43\u001b[0m \u001b[38;5;28;01mfor\u001b[39;00m i, m, s \u001b[38;5;129;01min\u001b[39;00m \u001b[38;5;28mzip\u001b[39m(\u001b[38;5;28mrange\u001b[39m(size), mu, sigma):\n\u001b[1;32m     44\u001b[0m     \u001b[38;5;28;01mif\u001b[39;00m random\u001b[38;5;241m.\u001b[39mrandom() \u001b[38;5;241m<\u001b[39m indpb:\n\u001b[0;32m---> 45\u001b[0m         \u001b[43mindividual\u001b[49m\u001b[43m[\u001b[49m\u001b[43mi\u001b[49m\u001b[43m]\u001b[49m\u001b[43m \u001b[49m\u001b[38;5;241;43m+\u001b[39;49m\u001b[38;5;241;43m=\u001b[39;49m\u001b[43m \u001b[49m\u001b[43mrandom\u001b[49m\u001b[38;5;241;43m.\u001b[39;49m\u001b[43mgauss\u001b[49m\u001b[43m(\u001b[49m\u001b[43mm\u001b[49m\u001b[43m,\u001b[49m\u001b[43m \u001b[49m\u001b[43ms\u001b[49m\u001b[43m)\u001b[49m\n\u001b[1;32m     47\u001b[0m \u001b[38;5;28;01mreturn\u001b[39;00m individual,\n",
      "\u001b[0;31mTypeError\u001b[0m: 'float' object is not iterable"
     ]
    }
   ],
   "source": [
    "for gen in range(ngen):\n",
    "    # Popülasyonda çaprazlama ve mutasyon işlemi yapılır\n",
    "    population = algorithms.varAnd(population, toolbox, cxpb=0.5, mutpb=0.2)\n",
    "    # Bireylerin fitness değerleri hesaplanır\n",
    "    fits = toolbox.map(toolbox.evaluate, population)\n",
    "    for fit, ind in zip(fits, population):\n",
    "        ind.fitness.values = fit\n",
    "    # Yeni nesil için bireyler seçilir\n",
    "    population = toolbox.select(population, k=len(population))\n",
    "\n",
    "    # Nesil içinde en iyi birey bulunur ve kaydedilir\n",
    "    top_individual = tools.selBest(population, k=1)[0]\n",
    "    history.append([gen, top_individual, top_individual.fitness.values[0]])\n"
   ]
  },
  {
   "cell_type": "code",
   "execution_count": null,
   "metadata": {},
   "outputs": [
    {
     "name": "stdout",
     "output_type": "stream",
     "text": [
      "Empty DataFrame\n",
      "Columns: [Generation, Individual, Fitness]\n",
      "Index: []\n"
     ]
    }
   ],
   "source": [
    "# Sonuçların DataFrame olarak yazdırılması\n",
    "df = pd.DataFrame(history, columns=['Generation', 'Individual', 'Fitness'])\n",
    "print(df)"
   ]
  },
  {
   "cell_type": "code",
   "execution_count": null,
   "metadata": {},
   "outputs": [],
   "source": []
  }
 ],
 "metadata": {
  "kernelspec": {
   "display_name": "all",
   "language": "python",
   "name": "python3"
  },
  "language_info": {
   "codemirror_mode": {
    "name": "ipython",
    "version": 3
   },
   "file_extension": ".py",
   "mimetype": "text/x-python",
   "name": "python",
   "nbconvert_exporter": "python",
   "pygments_lexer": "ipython3",
   "version": "3.11.5"
  }
 },
 "nbformat": 4,
 "nbformat_minor": 2
}
