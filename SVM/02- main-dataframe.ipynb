{
 "cells": [
  {
   "cell_type": "code",
   "execution_count": 1,
   "metadata": {},
   "outputs": [],
   "source": [
    "import numpy as np\n",
    "from sklearn import datasets\n",
    "from sklearn.model_selection import train_test_split\n",
    "from sklearn.svm import SVC\n",
    "from sklearn.metrics import accuracy_score\n",
    "import random\n"
   ]
  },
  {
   "cell_type": "code",
   "execution_count": 2,
   "metadata": {},
   "outputs": [],
   "source": [
    "def generate_individual():\n",
    "    return {\n",
    "        'C': random.choice([0.1, 1, 10, 100]),\n",
    "        'kernel': random.choice(['linear', 'rbf', 'sigmoid']),\n",
    "        'gamma': random.choice(['scale', 'auto'])\n",
    "    }\n",
    "\n",
    "def generate_initial_population(pop_size):\n",
    "    return [generate_individual() for _ in range(pop_size)]\n",
    "\n",
    "def compute_fitness(individual, X_train, y_train, X_val, y_val):\n",
    "    model = SVC(C=individual['C'], kernel=individual['kernel'], gamma=individual['gamma'])\n",
    "    model.fit(X_train, y_train)\n",
    "    predictions = model.predict(X_val)\n",
    "    return accuracy_score(y_val, predictions)\n",
    "\n",
    "def select_parents(population, fitness, num_parents):\n",
    "    parents_indices = np.argsort(fitness)[-num_parents:]\n",
    "    return [population[i] for i in parents_indices]\n",
    "\n",
    "def crossover(parents):\n",
    "    offspring = []\n",
    "    for _ in range(len(parents) // 2):\n",
    "        parent1, parent2 = random.sample(parents, 2)\n",
    "        child = {key: random.choice([parent1[key], parent2[key]]) for key in parent1}\n",
    "        offspring.append(child)\n",
    "    return offspring\n",
    "\n",
    "def mutate(offspring):\n",
    "    for child in offspring:\n",
    "        if random.uniform(0, 1) < 0.1:\n",
    "            child['C'] = random.choice([0.1, 1, 10, 100])\n",
    "            child['kernel'] = random.choice(['linear', 'rbf', 'sigmoid'])\n",
    "            child['gamma'] = random.choice(['scale', 'auto'])\n",
    "    return offspring\n"
   ]
  },
  {
   "cell_type": "code",
   "execution_count": 3,
   "metadata": {},
   "outputs": [],
   "source": [
    "# Breast Cancer Wisconsin veri setini yükleme\n",
    "data = datasets.load_breast_cancer()\n",
    "X = data.data\n",
    "y = data.target\n",
    "\n",
    "# Eğitim ve test verilerine ayırma\n",
    "X_train, X_val, y_train, y_val = train_test_split(X, y, test_size=0.2)\n"
   ]
  },
  {
   "cell_type": "code",
   "execution_count": 5,
   "metadata": {},
   "outputs": [],
   "source": [
    "\n",
    "\n",
    "# Genetik algoritma parametreleri\n",
    "population_size = 10\n",
    "num_generations = 5\n",
    "num_parents = 4\n",
    "\n",
    "# Başlangıç popülasyonunu oluşturma\n",
    "population = generate_initial_population(population_size)\n",
    "\n",
    "\n"
   ]
  },
  {
   "cell_type": "code",
   "execution_count": 6,
   "metadata": {},
   "outputs": [
    {
     "name": "stdout",
     "output_type": "stream",
     "text": [
      "Generation 1\n",
      "Individual 1: Accuracy: 0.9298245614035088 | Weights: {'C': 1, 'kernel': 'rbf', 'gamma': 'scale'} | Loss: 0.07017543859649122 | Fitness: 0.9298245614035088  \n",
      "Individual 2: Accuracy: 0.6666666666666666 | Weights: {'C': 0.1, 'kernel': 'rbf', 'gamma': 'auto'} | Loss: 0.33333333333333337 | Fitness: 0.6666666666666666  \n",
      "Individual 3: Accuracy: 0.39473684210526316 | Weights: {'C': 10, 'kernel': 'sigmoid', 'gamma': 'scale'} | Loss: 0.6052631578947368 | Fitness: 0.39473684210526316  \n",
      "Individual 4: Accuracy: 0.9035087719298246 | Weights: {'C': 0.1, 'kernel': 'rbf', 'gamma': 'scale'} | Loss: 0.0964912280701754 | Fitness: 0.9035087719298246  \n",
      "Individual 5: Accuracy: 0.9385964912280702 | Weights: {'C': 1, 'kernel': 'linear', 'gamma': 'scale'} | Loss: 0.06140350877192979 | Fitness: 0.9385964912280702  \n",
      "Individual 6: Accuracy: 0.9298245614035088 | Weights: {'C': 100, 'kernel': 'linear', 'gamma': 'scale'} | Loss: 0.07017543859649122 | Fitness: 0.9298245614035088  \n",
      "Individual 7: Accuracy: 0.9210526315789473 | Weights: {'C': 10, 'kernel': 'rbf', 'gamma': 'scale'} | Loss: 0.07894736842105265 | Fitness: 0.9210526315789473  \n",
      "Individual 8: Accuracy: 0.6666666666666666 | Weights: {'C': 0.1, 'kernel': 'rbf', 'gamma': 'auto'} | Loss: 0.33333333333333337 | Fitness: 0.6666666666666666  \n",
      "Individual 9: Accuracy: 0.6666666666666666 | Weights: {'C': 10, 'kernel': 'rbf', 'gamma': 'auto'} | Loss: 0.33333333333333337 | Fitness: 0.6666666666666666  \n",
      "Individual 10: Accuracy: 0.9035087719298246 | Weights: {'C': 0.1, 'kernel': 'rbf', 'gamma': 'scale'} | Loss: 0.0964912280701754 | Fitness: 0.9035087719298246  \n",
      "Generation 2\n",
      "Individual 1: Accuracy: 0.9210526315789473 | Weights: {'C': 10, 'kernel': 'rbf', 'gamma': 'scale'} | Loss: 0.07894736842105265 | Fitness: 0.9210526315789473  \n",
      "Individual 2: Accuracy: 0.9298245614035088 | Weights: {'C': 1, 'kernel': 'rbf', 'gamma': 'scale'} | Loss: 0.07017543859649122 | Fitness: 0.9298245614035088  \n",
      "Individual 3: Accuracy: 0.9298245614035088 | Weights: {'C': 100, 'kernel': 'linear', 'gamma': 'scale'} | Loss: 0.07017543859649122 | Fitness: 0.9298245614035088  \n",
      "Individual 4: Accuracy: 0.9385964912280702 | Weights: {'C': 1, 'kernel': 'linear', 'gamma': 'scale'} | Loss: 0.06140350877192979 | Fitness: 0.9385964912280702  \n",
      "Individual 5: Accuracy: 0.9385964912280702 | Weights: {'C': 10, 'kernel': 'linear', 'gamma': 'scale'} | Loss: 0.06140350877192979 | Fitness: 0.9385964912280702  \n",
      "Individual 6: Accuracy: 0.9385964912280702 | Weights: {'C': 1, 'kernel': 'linear', 'gamma': 'scale'} | Loss: 0.06140350877192979 | Fitness: 0.9385964912280702  \n",
      "Generation 3\n",
      "Individual 1: Accuracy: 0.9298245614035088 | Weights: {'C': 100, 'kernel': 'linear', 'gamma': 'scale'} | Loss: 0.07017543859649122 | Fitness: 0.9298245614035088  \n",
      "Individual 2: Accuracy: 0.9385964912280702 | Weights: {'C': 1, 'kernel': 'linear', 'gamma': 'scale'} | Loss: 0.06140350877192979 | Fitness: 0.9385964912280702  \n",
      "Individual 3: Accuracy: 0.9385964912280702 | Weights: {'C': 10, 'kernel': 'linear', 'gamma': 'scale'} | Loss: 0.06140350877192979 | Fitness: 0.9385964912280702  \n",
      "Individual 4: Accuracy: 0.9385964912280702 | Weights: {'C': 1, 'kernel': 'linear', 'gamma': 'scale'} | Loss: 0.06140350877192979 | Fitness: 0.9385964912280702  \n",
      "Individual 5: Accuracy: 0.9385964912280702 | Weights: {'C': 1, 'kernel': 'linear', 'gamma': 'scale'} | Loss: 0.06140350877192979 | Fitness: 0.9385964912280702  \n",
      "Individual 6: Accuracy: 0.9385964912280702 | Weights: {'C': 1, 'kernel': 'linear', 'gamma': 'scale'} | Loss: 0.06140350877192979 | Fitness: 0.9385964912280702  \n",
      "Generation 4\n",
      "Individual 1: Accuracy: 0.9385964912280702 | Weights: {'C': 10, 'kernel': 'linear', 'gamma': 'scale'} | Loss: 0.06140350877192979 | Fitness: 0.9385964912280702  \n",
      "Individual 2: Accuracy: 0.9385964912280702 | Weights: {'C': 1, 'kernel': 'linear', 'gamma': 'scale'} | Loss: 0.06140350877192979 | Fitness: 0.9385964912280702  \n",
      "Individual 3: Accuracy: 0.9385964912280702 | Weights: {'C': 1, 'kernel': 'linear', 'gamma': 'scale'} | Loss: 0.06140350877192979 | Fitness: 0.9385964912280702  \n",
      "Individual 4: Accuracy: 0.9385964912280702 | Weights: {'C': 1, 'kernel': 'linear', 'gamma': 'scale'} | Loss: 0.06140350877192979 | Fitness: 0.9385964912280702  \n",
      "Individual 5: Accuracy: 0.9385964912280702 | Weights: {'C': 1, 'kernel': 'linear', 'gamma': 'scale'} | Loss: 0.06140350877192979 | Fitness: 0.9385964912280702  \n",
      "Individual 6: Accuracy: 0.9385964912280702 | Weights: {'C': 1, 'kernel': 'linear', 'gamma': 'scale'} | Loss: 0.06140350877192979 | Fitness: 0.9385964912280702  \n",
      "Generation 5\n",
      "Individual 1: Accuracy: 0.9385964912280702 | Weights: {'C': 1, 'kernel': 'linear', 'gamma': 'scale'} | Loss: 0.06140350877192979 | Fitness: 0.9385964912280702  \n",
      "Individual 2: Accuracy: 0.9385964912280702 | Weights: {'C': 1, 'kernel': 'linear', 'gamma': 'scale'} | Loss: 0.06140350877192979 | Fitness: 0.9385964912280702  \n",
      "Individual 3: Accuracy: 0.9385964912280702 | Weights: {'C': 1, 'kernel': 'linear', 'gamma': 'scale'} | Loss: 0.06140350877192979 | Fitness: 0.9385964912280702  \n",
      "Individual 4: Accuracy: 0.9385964912280702 | Weights: {'C': 1, 'kernel': 'linear', 'gamma': 'scale'} | Loss: 0.06140350877192979 | Fitness: 0.9385964912280702  \n",
      "Individual 5: Accuracy: 0.9385964912280702 | Weights: {'C': 1, 'kernel': 'linear', 'gamma': 'scale'} | Loss: 0.06140350877192979 | Fitness: 0.9385964912280702  \n",
      "Individual 6: Accuracy: 0.9385964912280702 | Weights: {'C': 1, 'kernel': 'linear', 'gamma': 'scale'} | Loss: 0.06140350877192979 | Fitness: 0.9385964912280702  \n"
     ]
    }
   ],
   "source": [
    "# Her nesil için döngü\n",
    "for generation in range(num_generations):\n",
    "    print(f\"Generation {generation + 1}\")\n",
    "    fitness = [compute_fitness(individual, X_train, y_train, X_val, y_val) for individual in population]\n",
    "    \n",
    "    for i, fit in enumerate(fitness):\n",
    "        print(f\"Individual {i + 1}: Accuracy: {fit} | Weights: {population[i]} | Loss: {1 - fit} | Fitness: {fitness[i]}  \")\n",
    "       \n",
    "       \n",
    "\n",
    "    parents = select_parents(population, fitness, num_parents)\n",
    "    offspring_crossover = crossover(parents)\n",
    "    offspring_mutation = mutate(offspring_crossover)\n",
    "\n",
    "    population = parents + offspring_mutation"
   ]
  }
 ],
 "metadata": {
  "kernelspec": {
   "display_name": "all",
   "language": "python",
   "name": "python3"
  },
  "language_info": {
   "codemirror_mode": {
    "name": "ipython",
    "version": 3
   },
   "file_extension": ".py",
   "mimetype": "text/x-python",
   "name": "python",
   "nbconvert_exporter": "python",
   "pygments_lexer": "ipython3",
   "version": "3.11.5"
  }
 },
 "nbformat": 4,
 "nbformat_minor": 2
}
