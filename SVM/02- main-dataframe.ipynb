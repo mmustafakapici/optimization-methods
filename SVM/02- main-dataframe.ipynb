{
 "cells": [
  {
   "cell_type": "code",
   "execution_count": null,
   "metadata": {},
   "outputs": [],
   "source": [
    "import numpy as np\n",
    "from sklearn import datasets\n",
    "from sklearn.model_selection import train_test_split\n",
    "from sklearn.svm import SVC\n",
    "from sklearn.metrics import accuracy_score\n",
    "import random\n"
   ]
  },
  {
   "cell_type": "code",
   "execution_count": null,
   "metadata": {},
   "outputs": [],
   "source": [
    "def generate_individual():\n",
    "    return {\n",
    "        'C': random.choice([0.1, 1, 10, 100]),\n",
    "        'kernel': random.choice(['linear', 'rbf', 'sigmoid']),\n",
    "        'gamma': random.choice(['scale', 'auto'])\n",
    "    }\n",
    "\n",
    "def generate_initial_population(pop_size):\n",
    "    return [generate_individual() for _ in range(pop_size)]\n",
    "\n",
    "def compute_fitness(individual, X_train, y_train, X_val, y_val):\n",
    "    model = SVC(C=individual['C'], kernel=individual['kernel'], gamma=individual['gamma'])\n",
    "    model.fit(X_train, y_train)\n",
    "    predictions = model.predict(X_val)\n",
    "    return accuracy_score(y_val, predictions)\n",
    "\n",
    "def select_parents(population, fitness, num_parents):\n",
    "    parents_indices = np.argsort(fitness)[-num_parents:]\n",
    "    return [population[i] for i in parents_indices]\n",
    "\n",
    "def crossover(parents):\n",
    "    offspring = []\n",
    "    for _ in range(len(parents) // 2):\n",
    "        parent1, parent2 = random.sample(parents, 2)\n",
    "        child = {key: random.choice([parent1[key], parent2[key]]) for key in parent1}\n",
    "        offspring.append(child)\n",
    "    return offspring\n",
    "\n",
    "def mutate(offspring):\n",
    "    for child in offspring:\n",
    "        if random.uniform(0, 1) < 0.1:\n",
    "            child['C'] = random.choice([0.1, 1, 10, 100])\n",
    "            child['kernel'] = random.choice(['linear', 'rbf', 'sigmoid'])\n",
    "            child['gamma'] = random.choice(['scale', 'auto'])\n",
    "    return offspring\n"
   ]
  },
  {
   "cell_type": "code",
   "execution_count": null,
   "metadata": {},
   "outputs": [],
   "source": [
    "# Breast Cancer Wisconsin veri setini yükleme\n",
    "data = datasets.load_breast_cancer()\n",
    "X = data.data\n",
    "y = data.target\n",
    "\n",
    "# Eğitim ve test verilerine ayırma\n",
    "X_train, X_val, y_train, y_val = train_test_split(X, y, test_size=0.2)\n"
   ]
  },
  {
   "cell_type": "code",
   "execution_count": null,
   "metadata": {},
   "outputs": [],
   "source": [
    "\n",
    "\n",
    "# Genetik algoritma parametreleri\n",
    "population_size = 10\n",
    "num_generations = 5\n",
    "num_parents = 4\n",
    "\n",
    "# Başlangıç popülasyonunu oluşturma\n",
    "population = generate_initial_population(population_size)\n",
    "\n",
    "\n"
   ]
  },
  {
   "cell_type": "code",
   "execution_count": null,
   "metadata": {},
   "outputs": [],
   "source": [
    "# Her nesil için döngü\n",
    "for generation in range(num_generations):\n",
    "    print(f\"Generation {generation + 1}\")\n",
    "    fitness = [compute_fitness(individual, X_train, y_train, X_val, y_val) for individual in population]\n",
    "    \n",
    "    for i, fit in enumerate(fitness):\n",
    "        print(f\"Individual {i + 1}: Accuracy: {fit} | Weights: {population[i]} | Loss: {1 - fit} | Fitness: {fitness[i]}  \")\n",
    "       \n",
    "       \n",
    "\n",
    "    parents = select_parents(population, fitness, num_parents)\n",
    "    offspring_crossover = crossover(parents)\n",
    "    offspring_mutation = mutate(offspring_crossover)\n",
    "\n",
    "    population = parents + offspring_mutation"
   ]
  }
 ],
 "metadata": {
  "kernelspec": {
   "display_name": "all",
   "language": "python",
   "name": "python3"
  },
  "language_info": {
   "codemirror_mode": {
    "name": "ipython",
    "version": 3
   },
   "file_extension": ".py",
   "mimetype": "text/x-python",
   "name": "python",
   "nbconvert_exporter": "python",
   "pygments_lexer": "ipython3",
   "version": "3.11.5"
  }
 },
 "nbformat": 4,
 "nbformat_minor": 2
}
